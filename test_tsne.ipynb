{
 "cells": [
  {
   "cell_type": "code",
   "execution_count": 1,
   "metadata": {},
   "outputs": [
    {
     "name": "stderr",
     "output_type": "stream",
     "text": [
      "c:\\Users\\heeryung\\anaconda3\\envs\\jiwon2\\lib\\site-packages\\tqdm\\auto.py:21: TqdmWarning: IProgress not found. Please update jupyter and ipywidgets. See https://ipywidgets.readthedocs.io/en/stable/user_install.html\n",
      "  from .autonotebook import tqdm as notebook_tqdm\n"
     ]
    }
   ],
   "source": [
    "import torch\n",
    "import torch.nn as nn\n",
    "from dataset.msrvtt_dataloader import MSRVTT_DataLoader\n",
    "from model.fusion_model import EverythingAtOnceModel\n",
    "from gensim.models.keyedvectors import KeyedVectors\n",
    "from torch.utils.data import DataLoader\n",
    "import numpy as np\n",
    "from sklearn.manifold import TSNE\n",
    "import matplotlib.pyplot as plt\n",
    "import argparse"
   ]
  },
  {
   "cell_type": "code",
   "execution_count": null,
   "metadata": {},
   "outputs": [],
   "source": [
    "parser = argparse.ArgumentParser()\n",
    "parser.add_argument('--we_path', default='C:/Users/heeryung/code/24w-Tri-Modalities/data/GoogleNews-vectors-negative300.bin', type=str)\n",
    "parser.add_argument('--data_path', default='C:/Users/heeryung/code/24w-Tri-Modalities/data/msrvtt_jsfusion_test.pkl', type=str)\n",
    "parser.add_argument('--checkpoint_path', default='C:/Users/heeryung/code/24w_deep_daiv/ckpt/trial7_audio_permtue/epoch100.pth', type=str)\n",
    "parser.add_argument('--token_projection', default='projection_net', type=str) \n",
    "parser.add_argument('--use_softmax', default=True, type=bool) \n",
    "parser.add_argument('--use_cls_token', default=False, type=bool) \n",
    "parser.add_argument('--num_classes', default=20, type=int) \n",
    "parser.add_argument('--batch_size', default=16, type=int) \n",
    "args, unknown = parser.parse_known_args()\n",
    "\n",
    "\n",
    "checkpoint = torch.load(args.checkpoint_path)\n",
    "\n",
    "we = None \n",
    "we = KeyedVectors.load_word2vec_format(args.we_path, binary=True)\n",
    "\n",
    "dataset = MSRVTT_DataLoader(data_path=args.data_path, we=we)\n",
    "data_loader = DataLoader(dataset, batch_size=args.batch_size)\n",
    "\n",
    "net = EverythingAtOnceModel(args).cuda()\n",
    "optimizer = torch.optim.Adam(net.parameters(), lr =0.001)\n",
    "\n",
    "net.load_state_dict(checkpoint['model_state_dict'])\n",
    "optimizer.load_state_dict(checkpoint['optimizer_state_dict'])"
   ]
  },
  {
   "cell_type": "code",
   "execution_count": null,
   "metadata": {},
   "outputs": [],
   "source": [
    "video_features = []\n",
    "audio_features = []\n",
    "text_features = []\n",
    "categories = []\n",
    "\n",
    "net.eval()\n",
    "for data in data_loader:\n",
    "    video = data['video'].cuda()\n",
    "    audio = data['audio'].cuda()\n",
    "    text = data['text'].cuda()\n",
    "    nframes = data['nframes'].cuda()\n",
    "    category = data['category'].cuda() # [batch_size,]\n",
    "\n",
    "    video = video.view(-1, video.shape[-1])\n",
    "    audio = audio.view(-1, audio.shape[-2], audio.shape[-1])\n",
    "    text = text.view(-1, text.shape[-2], text.shape[-1])\n",
    "\n",
    "    v, a, t = net(video, audio, nframes, text, category) # [batch_size, 20]\n",
    "\n",
    "    video_features.append(v.cpu().detach().numpy())\n",
    "    audio_features.append(a.cpu().detach().numpy())\n",
    "    text_features.append(t.cpu().detach().numpy())\n",
    "    categories.append(category.cpu().detach().numpy())\n",
    "\n",
    "video_features = np.concatenate(video_features, axis=0)\n",
    "audio_features = np.concatenate(audio_features, axis=0)\n",
    "text_features = np.concatenate(text_features, axis=0)\n",
    "categories = np.concatenate(categories, axis=0)"
   ]
  },
  {
   "cell_type": "code",
   "execution_count": null,
   "metadata": {},
   "outputs": [],
   "source": [
    "tsne = TSNE(n_components=3, random_state=42)\n",
    "combined_features = np.concatenate([video_features, audio_features, text_features], axis=1)\n",
    "tsne_results = tsne.fit_transform(combined_features)\n",
    "\n",
    "fig = plt.figure(figsize=(10, 8))\n",
    "ax = fig.add_subplot(111, projection='3d')\n",
    "\n",
    "unique_categories = np.unique(categories)\n",
    "colors = plt.cm.rainbow(np.linspace(0, 1, len(unique_categories)))\n",
    "\n",
    "for i, category in enumerate(unique_categories):\n",
    "    indices = categories == category\n",
    "    ax.scatter(tsne_results[indices, 0], tsne_results[indices, 1], tsne_results[indices, 2], color=colors[i], label=f'Category {category}')\n",
    "\n",
    "plt.legend()\n",
    "plt.title(\"3D t-SNE Visualization of Combined Video, Audio, and Text Features by Category\")\n",
    "plt.show()"
   ]
  }
 ],
 "metadata": {
  "kernelspec": {
   "display_name": "jiwon2",
   "language": "python",
   "name": "python3"
  },
  "language_info": {
   "codemirror_mode": {
    "name": "ipython",
    "version": 3
   },
   "file_extension": ".py",
   "mimetype": "text/x-python",
   "name": "python",
   "nbconvert_exporter": "python",
   "pygments_lexer": "ipython3",
   "version": "3.9.7"
  }
 },
 "nbformat": 4,
 "nbformat_minor": 2
}
